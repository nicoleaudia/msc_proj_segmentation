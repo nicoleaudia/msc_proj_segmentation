{
 "cells": [
  {
   "cell_type": "code",
   "execution_count": 1,
   "metadata": {},
   "outputs": [],
   "source": [
    "import os\n",
    "import numpy as np\n",
    "import tifffile as tiff\n",
    "import matplotlib.pyplot as plt\n"
   ]
  },
  {
   "cell_type": "code",
   "execution_count": 2,
   "metadata": {},
   "outputs": [],
   "source": [
    "# Function to print every 1000th pixel value of the 2nd slice for each input image\n",
    "def print_every_1000th_pixel(img1, img2):\n",
    "    print(\"Every 1000th pixel value of the 2nd slice from the 1st stack:\")\n",
    "    pixels_img1 = img1[13].flatten()[::1000]\n",
    "    print(', '.join(map(str, pixels_img1)))\n",
    "    \n",
    "    print(\"Every 1000th pixel value of the 2nd slice from the 2nd stack:\")\n",
    "    pixels_img2 = img2[13].flatten()[::1000]\n",
    "    print(', '.join(map(str, pixels_img2)))\n",
    "    print('')\n",
    "\n",
    "    #adding more images...\n",
    "    # print(\"Every 1000th pixel value of the 3rd slice from the 1st stack :\")\n",
    "    # pixels_img1 = img1[2].flatten()[::1000]\n",
    "    # print(', '.join(map(str, pixels_img1)))\n",
    "    \n",
    "    \n",
    "    print(\"Every 1000th pixel value of the 38th slice from the 1st stack :\")\n",
    "    pixels_img1 = img1[37].flatten()[::1000]\n",
    "    print(', '.join(map(str, pixels_img1)))\n",
    "    \n",
    "    print(\"Every 1000th pixel value of the 38th slice from the 2nd stack:\")\n",
    "    pixels_img2 = img2[37].flatten()[::1000]\n",
    "    print(', '.join(map(str, pixels_img2)))\n",
    "    print('')\n",
    "\n",
    "    print(\"Every 1000th pixel value of the 39th slice from the 1st stack :\")\n",
    "    pixels_img1 = img1[38].flatten()[::1000]\n",
    "    print(', '.join(map(str, pixels_img1)))\n",
    "    \n",
    "    print(\"Every 1000th pixel value of the 39th slice from the 2nd stack:\")\n",
    "    pixels_img2 = img2[38].flatten()[::1000]\n",
    "    print(', '.join(map(str, pixels_img2)))\n",
    "\n",
    "# def convert_bit_depth(image, target_dtype):\n",
    "#     return np.clip(image, 0, np.iinfo(target_dtype).max).astype(target_dtype)\n",
    "\n",
    "def convert_bit_depth(image, target_dtype):\n",
    "    if target_dtype == np.float32:\n",
    "        return image.astype(target_dtype)\n",
    "    else:\n",
    "        return np.clip(image, 0, np.iinfo(target_dtype).max).astype(target_dtype)\n",
    "\n",
    "def compare_image_properties(img1, img2):\n",
    "    if img1.shape != img2.shape:\n",
    "        return f\"Different dimensions: {img1.shape} vs {img2.shape}\"\n",
    "    \n",
    "    if img1.dtype != img2.dtype:\n",
    "        return f\"Different bit depths: {img1.dtype} vs {img2.dtype}\"\n",
    "    \n",
    "    difference = np.sum(img1 != img2)  # Count the number of differing pixels in this image pair\n",
    "    if difference > 0:\n",
    "        return f\"Different pixel values at {difference} positions in this image\"\n",
    "    \n",
    "    return \"identical\"\n",
    "\n",
    "def compare_image_stacks(dir1, dir2, target_dtype=np.float32):\n",
    "    # List files in both directories\n",
    "    files1 = sorted([f for f in os.listdir(dir1) if f.endswith('.tif') or f.endswith('.tiff')])\n",
    "    files2 = sorted([f for f in os.listdir(dir2) if f.endswith('.tif') or f.endswith('.tiff')])\n",
    "\n",
    "    comparison_results = []\n",
    "\n",
    "    # Ensure both directories have the same number of files\n",
    "    if len(files1) != len(files2):\n",
    "        print(\"The directories do not contain the same number of files.\")\n",
    "        return comparison_results\n",
    "\n",
    "    # Compare images in the order they appear in both directories\n",
    "    for file1, file2 in zip(files1, files2):\n",
    "        print(f\"Comparing {file1} and {file2}...\")  # Debug print\n",
    "\n",
    "        # Load images\n",
    "        img1 = tiff.imread(os.path.join(dir1, file1))\n",
    "        img2 = tiff.imread(os.path.join(dir2, file2))\n",
    "\n",
    "        # Print bit depth of the images\n",
    "        print(f\"Bit depth of {file1}: {img1.dtype}\")\n",
    "        print(f\"Bit depth of {file2}: {img2.dtype}\")\n",
    "\n",
    "        # Convert images to the target bit depth for consistency\n",
    "        img1_converted = convert_bit_depth(img1, target_dtype)\n",
    "        img2_converted = convert_bit_depth(img2, target_dtype)\n",
    "        \n",
    "        print_every_1000th_pixel(img1_converted, img2_converted)\n",
    "\n",
    "        # Compare images\n",
    "        comparison_result = compare_image_properties(img1_converted, img2_converted)\n",
    "        comparison_results.append((file1, file2, comparison_result))\n",
    "        print(f\"Comparison result: {comparison_result}\")  # Debug print\n",
    "\n",
    "    return comparison_results\n",
    "\n",
    "\n",
    "\n",
    "def print_every_1000th_pixel_single_slice(img1, img2):\n",
    "    def print_sampled_pixels(pixels_img1, pixels_img2):\n",
    "        print(\"Every 1000th pixel value of the single slice from the 1st stack:\")\n",
    "        print(', '.join(map(str, pixels_img1[:10])))\n",
    "        print(\"Every 1000th pixel value of the single slice from the 2nd stack:\")\n",
    "        print(', '.join(map(str, pixels_img2[:10])))\n",
    "\n",
    "    print(f\"Checking single slice: shape {img1.shape}\")\n",
    "    pixels_img1 = img1.flatten()[::1000]\n",
    "    pixels_img2 = img2.flatten()[::1000]\n",
    "    print_sampled_pixels(pixels_img1, pixels_img2)\n",
    "\n",
    "# Example usage within compare_image_stacks function\n",
    "def compare_image_stacks_single_slice(dir1, dir2, target_dtype=np.float32):\n",
    "    # List files in both directories\n",
    "    files1 = sorted([f for f in os.listdir(dir1) if f.endswith('.tif') or f.endswith('.tiff')])\n",
    "    files2 = sorted([f for f in os.listdir(dir2) if f.endswith('.tif') or f.endswith('.tiff')])\n",
    "\n",
    "    comparison_results = []\n",
    "\n",
    "    # Ensure both directories have the same number of files\n",
    "    if len(files1) != len(files2):\n",
    "        print(\"The directories do not contain the same number of files.\")\n",
    "        return comparison_results\n",
    "\n",
    "    # Compare images in the order they appear in both directories\n",
    "    for file1, file2 in zip(files1, files2):\n",
    "        print(f\"Comparing {file1} and {file2}...\")  # Debug print\n",
    "\n",
    "        # Load images\n",
    "        img1 = tiff.imread(os.path.join(dir1, file1))\n",
    "        img2 = tiff.imread(os.path.join(dir2, file2))\n",
    "\n",
    "        # Print bit depth of the images\n",
    "        print(f\"Bit depth of {file1}: {img1.dtype}\")\n",
    "        print(f\"Bit depth of {file2}: {img2.dtype}\")\n",
    "\n",
    "        # Convert images to the target bit depth for consistency\n",
    "        img1_converted = convert_bit_depth(img1, target_dtype)\n",
    "        img2_converted = convert_bit_depth(img2, target_dtype)\n",
    "        \n",
    "        print_every_1000th_pixel_single_slice(img1_converted, img2_converted)\n",
    "\n",
    "        # Compare images\n",
    "        comparison_result = compare_image_properties(img1_converted, img2_converted)\n",
    "        comparison_results.append((file1, file2, comparison_result))\n",
    "        print(f\"Comparison result: {comparison_result}\")  \n",
    "\n",
    "    return comparison_results\n"
   ]
  },
  {
   "cell_type": "code",
   "execution_count": null,
   "metadata": {},
   "outputs": [],
   "source": [
    "exp5 = '/vol/biomedic3/bglocker/mscproj24/nma23/data/testing_directory/multi_model/exp5/BaSiC_Image'\n",
    "exp5copy = '/vol/biomedic3/bglocker/mscproj24/nma23/data/testing_directory/tory/multi_model/exp5copy/BaSiC_Image'\n",
    "comparison_results = compare_image_stacks(exp5, exp5copy)\n",
    "for img1_file, img2_file, comparison_result in comparison_results:\n",
    "    print(f\"Comparison of {img1_file} and {img2_file}: {comparison_result}\")"
   ]
  },
  {
   "cell_type": "code",
   "execution_count": null,
   "metadata": {},
   "outputs": [],
   "source": [
    "# BASIC PYIMAGEJ 200 interactive vs fiji\n",
    "fiji = '/vol/biomedic3/bglocker/mscproj24/nma23/data/Jones_data/224sampleresultsFIJI/BaSic_Image'\n",
    "pyimagej = '/vol/biomedic3/bglocker/mscproj24/nma23/data/Jones_data/data/224sampleresultsPYTHON/BaSiC_Image'\n",
    "comparison_results = compare_image_stacks(fiji, pyimagej)\n",
    "for img1_file, img2_file, comparison_result in comparison_results:\n",
    "    print(f\"Comparison of {img1_file} and {img2_file}: {comparison_result}\")"
   ]
  },
  {
   "cell_type": "code",
   "execution_count": null,
   "metadata": {},
   "outputs": [],
   "source": [
    "# ORIGINAL IMAGES\n",
    "fiji_stack_dir = '/vol/biomedic3/bglocker/mscproj24/nma23/interleaved/'\n",
    "python_stack_dir = '/vol/biomedic3/bglocker/mscproj24/nma23/interleaved/' #identical\n",
    "comparison_results = compare_image_stacks(fiji_stack_dir, python_stack_dir)\n",
    "for img1_file, img2_file, comparison_result in comparison_results:\n",
    "    print(f\"Comparison of {img1_file} and {img2_file}: {comparison_result}\")"
   ]
  },
  {
   "cell_type": "code",
   "execution_count": null,
   "metadata": {},
   "outputs": [],
   "source": [
    "# BASIC IMAGES\n",
    "# Define the directories containing the image stacks\n",
    "fiji_stack_dir = '/vol/biomedic3/bglocker/mscproj24/nma23/data/Jones_data/FIJI_20sample_final/exp1/BaSic_Image'\n",
    "python_stack_dir = '/vol/biomedic3/bglocker/mscproj24/nma23/data/testing_directory/tory/exp1/BaSiC_Image'\n",
    "\n",
    "# Compare the image stacks\n",
    "comparison_results = compare_image_stacks(fiji_stack_dir, python_stack_dir)\n",
    "\n",
    "# Display the comparison results\n",
    "for img1_file, img2_file, comparison_result in comparison_results:\n",
    "    print(f\"Comparison of {img1_file} and {img2_file}: {comparison_result}\")"
   ]
  },
  {
   "cell_type": "code",
   "execution_count": null,
   "metadata": {},
   "outputs": [],
   "source": [
    "# FLATFIELD\n",
    "fiji_stack_dir = '/vol/biomedic3/bglocker/mscproj24/nma23/flatfieldtif_FIJI/'\n",
    "python_stack_dir = '/vol/biomedic3/bglocker/mscproj24/nma23/flatfieldtif_python'\n",
    "comparison_results = compare_image_stacks_single_slice(fiji_stack_dir, python_stack_dir)\n",
    "for img1_file, img2_file, comparison_result in comparison_results:\n",
    "    print(f\"Comparison of {img1_file} and {img2_file}: {comparison_result}\")"
   ]
  },
  {
   "cell_type": "markdown",
   "metadata": {},
   "source": [
    "confirm PHANTAST output (before processing) is identical in script vs FIJI:"
   ]
  },
  {
   "cell_type": "code",
   "execution_count": null,
   "metadata": {},
   "outputs": [],
   "source": [
    "# PHANTAST MASK *BEFORE PROCESSING*\n",
    "fiji_stack_dir = '/vol/biomedic3/bglocker/mscproj24/nma23/data/Jones_data/FIJI_20sample_final/exp1/Phantast_Output/'\n",
    "python_stack_dir = '/vol/biomedic3/bglocker/mscproj24/nma23/data/testing_directory/tory/exp1/Phantast_Output_Copy/'\n",
    "comparison_results = compare_image_stacks(fiji_stack_dir, python_stack_dir)\n",
    "for img1_file, img2_file, comparison_result in comparison_results:\n",
    "    print(f\"Comparison of {img1_file} and {img2_file}: {comparison_result}\")"
   ]
  },
  {
   "cell_type": "markdown",
   "metadata": {},
   "source": [
    "now confirm PHANTAST is identical after processing in script vs FIJI:"
   ]
  },
  {
   "cell_type": "code",
   "execution_count": null,
   "metadata": {},
   "outputs": [],
   "source": [
    "# PHANTAST MASK *AFTER PROCESSING*\n",
    "fiji_stack_dir = '/vol/biomedic3/bglocker/mscproj24/nma23/data/Jones_data/FIJI_20sample_final/exp1/Phantast_Output/'\n",
    "python_stack_dir = '/vol/biomedic3/bglocker/mscproj24/nma23/data/testing_directory/tory/exp1/Phantast_Output/interleaved_masks_stack.tiff'\n",
    "comparison_results = compare_image_stacks(fiji_stack_dir, python_stack_dir)\n",
    "for img1_file, img2_file, comparison_result in comparison_results:\n",
    "    print(f\"Comparison of {img1_file} and {img2_file}: {comparison_result}\")"
   ]
  },
  {
   "cell_type": "code",
   "execution_count": null,
   "metadata": {},
   "outputs": [],
   "source": [
    "# FIJI - BEFORE AND AFTER ENHANCEMENT\n",
    "before_dir = '/vol/biomedic3/bglocker/mscproj24/nma23/714_FIJI_extra_folders/20samples_16FOV_1/exp1/multip_images_fiji_714'\n",
    "after_dir = '/vol/biomedic3/bglocker/mscproj24/nma23/714_FIJI_extra_folders/20samples_16FOV_1/exp1/enhanced_images_fiji_714'\n",
    "comparison_results = compare_image_stacks(before_dir, after_dir)\n",
    "for img1_file, img2_file, comparison_result in comparison_results:\n",
    "    print(f\"Comparison of {img1_file} and {img2_file}: {comparison_result}\")"
   ]
  },
  {
   "cell_type": "code",
   "execution_count": null,
   "metadata": {},
   "outputs": [],
   "source": [
    "# MULTIPLIED IMAGES\n",
    "fiji_stack_dir = '/vol/biomedic3/bglocker/mscproj24/nma23/714_FIJI_extra_folders/20samples_16FOV_1/exp1/multip_images_fiji_714'\n",
    "python_stack_dir = '/vol/biomedic3/bglocker/mscproj24/nma23/data/testing_directory/tory/exp1/multip_images'\n",
    "comparison_results = compare_image_stacks(fiji_stack_dir, python_stack_dir)\n",
    "for img1_file, img2_file, comparison_result in comparison_results:\n",
    "    print(f\"Comparison of {img1_file} and {img2_file}: {comparison_result}\")"
   ]
  },
  {
   "cell_type": "code",
   "execution_count": null,
   "metadata": {},
   "outputs": [],
   "source": [
    "# ENHANCED IMAGES\n",
    "fiji_stack_dir = '/vol/biomedic3/bglocker/mscproj24/nma23/714_FIJI_extra_folders/20samples_16FOV_1/exp1/enhanced_images_fiji_714'\n",
    "python_stack_dir = '/vol/biomedic3/bglocker/mscproj24/nma23/data/testing_directory/tory/exp1/enhanced_images'\n",
    "comparison_results = compare_image_stacks(fiji_stack_dir, python_stack_dir)\n",
    "for img1_file, img2_file, comparison_result in comparison_results:\n",
    "    print(f\"Comparison of {img1_file} and {img2_file}: {comparison_result}\")\n"
   ]
  },
  {
   "cell_type": "code",
   "execution_count": null,
   "metadata": {},
   "outputs": [],
   "source": [
    "# THRESHOLDED IMAGES\n",
    "fiji_stack_dir = '/vol/biomedic3/bglocker/mscproj24/nma23/714_FIJI_extra_folders/20samples_16FOV_1/exp1/final_thresh_images_fiji_714'\n",
    "python_stack_dir = '/vol/biomedic3/bglocker/mscproj24/nma23/data/testing_directory/exp1/Threshold_Final_Stack'\n",
    "comparison_results = compare_image_stacks(fiji_stack_dir, python_stack_dir)\n",
    "for img1_file, img2_file, comparison_result in comparison_results:\n",
    "    print(f\"Comparison of {img1_file} and {img2_file}: {comparison_result}\")"
   ]
  }
 ],
 "metadata": {
  "kernelspec": {
   "display_name": "micro-sam",
   "language": "python",
   "name": "python3"
  },
  "language_info": {
   "codemirror_mode": {
    "name": "ipython",
    "version": 3
   },
   "file_extension": ".py",
   "mimetype": "text/x-python",
   "name": "python",
   "nbconvert_exporter": "python",
   "pygments_lexer": "ipython3",
   "version": "3.11.9"
  }
 },
 "nbformat": 4,
 "nbformat_minor": 2
}
